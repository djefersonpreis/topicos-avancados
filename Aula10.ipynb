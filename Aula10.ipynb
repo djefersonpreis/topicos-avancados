{
 "cells": [
  {
   "cell_type": "code",
   "execution_count": null,
   "metadata": {},
   "outputs": [],
   "source": [
    "import pandas as pd\n",
    "from prophet import Prophet \n",
    "from matplotlib import pyplot as plt\n",
    "plt.figure(figsize=(10,10))"
   ]
  },
  {
   "cell_type": "markdown",
   "metadata": {},
   "source": [
    "# Aula 10 - Regressão (com sazonalidade)"
   ]
  },
  {
   "cell_type": "code",
   "execution_count": null,
   "metadata": {},
   "outputs": [],
   "source": [
    "data = pd.read_feather('database/GS.feather')\n",
    "data"
   ]
  },
  {
   "cell_type": "code",
   "execution_count": null,
   "metadata": {},
   "outputs": [],
   "source": [
    "regressao_region = pd.DataFrame()\n",
    "for region in data['Region'].unique():\n",
    "    print(region)\n",
    "    regressao = data[data['Region'] == region][['Order Date Month', 'Sales']].groupby('Order Date Month')['Sales'].sum().reset_index()\n",
    "    regressao = regressao.rename(columns={'Order Date Month': 'ds', 'Sales': 'y'})\n",
    "    m = Prophet().fit(regressao)\n",
    "    future = m.make_future_dataframe(periods=12, freq='MS')\n",
    "    forecast = m.predict(future)\n",
    "    # print(forecast)\n",
    "    forecast['Region'] = region \n",
    "    fig1 = m.plot(forecast)\n",
    "    plt.show()\n",
    "    regressao_region = regressao_region.append(\n",
    "        forecast[['Region', 'ds', 'yhat', 'yhat_lower', 'yhat_upper']],\n",
    "        ignore_index = True\n",
    "    )\n",
    "regressao_region"
   ]
  },
  {
   "cell_type": "code",
   "execution_count": 16,
   "metadata": {},
   "outputs": [],
   "source": [
    "regressao_region.to_feather('database/regressao_mercado.feather')"
   ]
  },
  {
   "cell_type": "code",
   "execution_count": null,
   "metadata": {},
   "outputs": [],
   "source": [
    "regressao_region = pd.DataFrame()\n",
    "for region in data['Region'].unique():\n",
    "    print(region)\n",
    "    regressao = data[data['Region'] == region][['Order Date Month', 'Sales']].groupby('Order Date Month')['Sales'].sum().reset_index()\n",
    "    regressao = regressao.rename(columns={'Order Date Month': 'ds', 'Sales': 'y'})\n",
    "    m = Prophet().fit(regressao)\n",
    "    future = m.make_future_dataframe(periods=12, freq='MS')\n",
    "    forecast = m.predict(future)\n",
    "    # print(forecast)\n",
    "    forecast['Region'] = region \n",
    "    fig1 = m.plot(forecast)\n",
    "    plt.show()\n",
    "    regressao_region = regressao_region.append(\n",
    "        forecast[['Region', 'ds', 'yhat', 'yhat_lower', 'yhat_upper']],\n",
    "        ignore_index = True\n",
    "    )\n",
    "regressao_region"
   ]
  },
  {
   "cell_type": "code",
   "execution_count": null,
   "metadata": {},
   "outputs": [],
   "source": [
    "regressao_region.to_feather('database/regressao_regiao.feather')"
   ]
  }
 ],
 "metadata": {
  "kernelspec": {
   "display_name": "Python 3.8.13 64-bit ('3.8.13')",
   "language": "python",
   "name": "python3"
  },
  "language_info": {
   "codemirror_mode": {
    "name": "ipython",
    "version": 3
   },
   "file_extension": ".py",
   "mimetype": "text/x-python",
   "name": "python",
   "nbconvert_exporter": "python",
   "pygments_lexer": "ipython3",
   "version": "3.8.13"
  },
  "orig_nbformat": 4,
  "vscode": {
   "interpreter": {
    "hash": "110cc1dee26208153f2972f08a2ad52b6a56238dc66d48e87fb757ef2996db56"
   }
  }
 },
 "nbformat": 4,
 "nbformat_minor": 2
}
