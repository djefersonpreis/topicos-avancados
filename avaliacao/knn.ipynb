{
 "cells": [
  {
   "cell_type": "code",
   "execution_count": 1,
   "metadata": {},
   "outputs": [],
   "source": [
    "import pandas as pd\n",
    "import numpy as np\n",
    "from sklearn.neighbors import NearestNeighbors"
   ]
  },
  {
   "cell_type": "code",
   "execution_count": 17,
   "metadata": {},
   "outputs": [],
   "source": [
    "data = pd.read_feather('database/base.feather')"
   ]
  },
  {
   "cell_type": "code",
   "execution_count": 6,
   "metadata": {},
   "outputs": [],
   "source": [
    "## RFM => Regency (Último -> data - data - 1) / Frequency (quantidade -> n) / Monetary (soma/média -> R   ~x)\n",
    "\n",
    "def rfm_variables(df):\n",
    "    ## FREQUENCY\n",
    "    f_sales = len(df) ## Quantidade de vendas \n",
    "    f_profit = len(df[df['Profit'] > 0]) ## Quantidade de vendas com lucros\n",
    "    ## MONETARY\n",
    "    m_sales = round(df['Sales'].sum(), 2) ## Total de vendas\n",
    "    m_profit = round(df['Profit'].sum(), 2) ## Total de vendas com lucro\n",
    "    m_quantity = df['Quantity'].sum() ## Total de quantidades\n",
    "    ## PERIODICITY\n",
    "    df_sort = df[['Order Date']].sort_values(by='Order Date').drop_duplicates() ## Periodicidade\n",
    "    df_sort['diff'] = df_sort['Order Date'] - df_sort['Order Date'].shift(1)\n",
    "    df_sort['diff_int'] = df_sort['diff'].dt.days\n",
    "    ## REGENCY\n",
    "    r_days = round(df_sort['diff_int'].mean(), 2)\n",
    "    return f_sales, f_profit, m_sales, m_profit, m_quantity, r_days"
   ]
  },
  {
   "cell_type": "code",
   "execution_count": 18,
   "metadata": {},
   "outputs": [],
   "source": [
    "def fit_data(data, variable):\n",
    "    rfm = pd.DataFrame()\n",
    "    variaveis = data[variable].unique()\n",
    "    for variavel in variaveis:\n",
    "        dados = data[data[variable] == variavel]\n",
    "        f_vendas, f_lucro, m_vendas, m_lucro, m_qtde, r_dias = rfm_variables(dados)\n",
    "        new_row = {\n",
    "            'referencia': variavel,\n",
    "            'm_vendas': m_vendas,\n",
    "            'm_lucro': m_lucro,\n",
    "            'm_qtde': m_qtde,\n",
    "            'r_dias': r_dias,\n",
    "            'f_vendas': f_vendas,\n",
    "            'f_lucro': f_lucro\n",
    "        }\n",
    "        rfm = rfm.append(\n",
    "            new_row,\n",
    "            ignore_index = True\n",
    "        )\n",
    "    return rfm"
   ]
  },
  {
   "cell_type": "code",
   "execution_count": null,
   "metadata": {},
   "outputs": [],
   "source": [
    "original = fit_data(data, 'State')\n",
    "original = original.fillna(0)\n",
    "original"
   ]
  },
  {
   "cell_type": "code",
   "execution_count": 29,
   "metadata": {},
   "outputs": [],
   "source": [
    "variaveis = ['m_vendas', 'm_lucro', 'm_qtde', 'r_dias', 'f_vendas', 'f_lucro']"
   ]
  },
  {
   "cell_type": "code",
   "execution_count": null,
   "metadata": {},
   "outputs": [],
   "source": [
    "base = original[variaveis]\n",
    "base"
   ]
  },
  {
   "cell_type": "code",
   "execution_count": null,
   "metadata": {},
   "outputs": [],
   "source": [
    "vizinhos = NearestNeighbors(n_neighbors=min(4, len(base))).fit(base)\n",
    "similares = pd.DataFrame()\n",
    "for index, row in original.iterrows():\n",
    "    print('Referencia: {0}'.format(row['referencia']))\n",
    "    print('Referencias Similares:')\n",
    "    original_referencia = original[original['referencia'] == row['referencia']][variaveis]\n",
    "    similar = vizinhos.kneighbors(original_referencia, return_distance=False)[0]\n",
    "    original_similar = original.iloc[similar][variaveis].reset_index()\n",
    "    referencia = original.iloc[similar]['referencia'].reset_index()\n",
    "    referencia = referencia.merge(original_similar, on='index', how='left')\n",
    "    referencia = referencia.drop(columns=['index'])\n",
    "    for ind, rw in referencia.iterrows():    \n",
    "        if row['referencia'] != rw['referencia']:            \n",
    "            print('--> {0}'.format(rw['referencia']))\n",
    "            similares = similares.append({'referencia': row['referencia'], 'vizinho': rw['referencia']}, ignore_index = True)\n",
    "similares"
   ]
  },
  {
   "cell_type": "code",
   "execution_count": 27,
   "metadata": {},
   "outputs": [],
   "source": [
    "similares.to_feather('database/knn_estado.feather')"
   ]
  },
  {
   "cell_type": "code",
   "execution_count": null,
   "metadata": {},
   "outputs": [],
   "source": [
    "## Aula 15 - KNN - Vizinhos mais próximos\n",
    "original = fit_data(data, 'Category')\n",
    "original = original.fillna(0)\n",
    "base = original[variaveis]\n",
    "vizinhos = NearestNeighbors(n_neighbors=min(4, len(base))).fit(base)\n",
    "similares = pd.DataFrame()\n",
    "for index, row in original.iterrows():\n",
    "    print('Referencia: {0}'.format(row['referencia']))\n",
    "    print('Referencias Similares:')\n",
    "    original_referencia = original[original['referencia'] == row['referencia']][variaveis]\n",
    "    similar = vizinhos.kneighbors(original_referencia, return_distance=False)[0]\n",
    "    original_similar = original.iloc[similar][variaveis].reset_index()\n",
    "    referencia = original.iloc[similar]['referencia'].reset_index()\n",
    "    referencia = referencia.merge(original_similar, on='index', how='left')\n",
    "    referencia = referencia.drop(columns=['index'])\n",
    "    for ind, rw in referencia.iterrows():    \n",
    "        if row['referencia'] != rw['referencia']:            \n",
    "            print('--> {0}'.format(rw['referencia']))\n",
    "            similares = similares.append({'referencia': row['referencia'], 'vizinho': rw['referencia']}, ignore_index = True)\n",
    "similares\n",
    "\n",
    "similares.to_feather('database/knn_categoria.feather')"
   ]
  },
  {
   "cell_type": "code",
   "execution_count": null,
   "metadata": {},
   "outputs": [],
   "source": [
    "## Aula 15 - KNN - Vizinhos mais próximos\n",
    "original = fit_data(data, 'Sub-Category')\n",
    "original = original.fillna(0)\n",
    "base = original[variaveis]\n",
    "vizinhos = NearestNeighbors(n_neighbors=min(4, len(base))).fit(base)\n",
    "similares = pd.DataFrame()\n",
    "for index, row in original.iterrows():\n",
    "    print('Referencia: {0}'.format(row['referencia']))\n",
    "    print('Referencias Similares:')\n",
    "    original_referencia = original[original['referencia'] == row['referencia']][variaveis]\n",
    "    similar = vizinhos.kneighbors(original_referencia, return_distance=False)[0]\n",
    "    original_similar = original.iloc[similar][variaveis].reset_index()\n",
    "    referencia = original.iloc[similar]['referencia'].reset_index()\n",
    "    referencia = referencia.merge(original_similar, on='index', how='left')\n",
    "    referencia = referencia.drop(columns=['index'])\n",
    "    for ind, rw in referencia.iterrows():    \n",
    "        if row['referencia'] != rw['referencia']:            \n",
    "            print('--> {0}'.format(rw['referencia']))\n",
    "            similares = similares.append({'referencia': row['referencia'], 'vizinho': rw['referencia']}, ignore_index = True)\n",
    "similares\n",
    "\n",
    "similares.to_feather('database/knn_subcategoria.feather')"
   ]
  },
  {
   "cell_type": "code",
   "execution_count": null,
   "metadata": {},
   "outputs": [],
   "source": [
    "## Aula 15 - KNN - Vizinhos mais próximos\n",
    "original = fit_data(data, 'Product Name')\n",
    "original = original.fillna(0)\n",
    "base = original[variaveis]\n",
    "vizinhos = NearestNeighbors(n_neighbors=min(4, len(base))).fit(base)\n",
    "similares = pd.DataFrame()\n",
    "for index, row in original.iterrows():\n",
    "    print('Referencia: {0}'.format(row['referencia']))\n",
    "    print('Referencias Similares:')\n",
    "    original_referencia = original[original['referencia'] == row['referencia']][variaveis]\n",
    "    similar = vizinhos.kneighbors(original_referencia, return_distance=False)[0]\n",
    "    original_similar = original.iloc[similar][variaveis].reset_index()\n",
    "    referencia = original.iloc[similar]['referencia'].reset_index()\n",
    "    referencia = referencia.merge(original_similar, on='index', how='left')\n",
    "    referencia = referencia.drop(columns=['index'])\n",
    "    for ind, rw in referencia.iterrows():    \n",
    "        if row['referencia'] != rw['referencia']:            \n",
    "            print('--> {0}'.format(rw['referencia']))\n",
    "            similares = similares.append({'referencia': row['referencia'], 'vizinho': rw['referencia']}, ignore_index = True)\n",
    "similares\n",
    "\n",
    "similares.to_feather('database/knn_produto.feather')"
   ]
  },
  {
   "cell_type": "code",
   "execution_count": null,
   "metadata": {},
   "outputs": [],
   "source": [
    "original = fit_data(data, 'State')\n",
    "original = original.fillna(0)\n",
    "base = original[variaveis]\n",
    "vizinhos = NearestNeighbors(n_neighbors=min(4, len(base))).fit(base)\n",
    "similares = pd.DataFrame()\n",
    "for index, row in original.iterrows():\n",
    "    print('Referencia: {0}'.format(row['referencia']))\n",
    "    print('Referencias Similares:')\n",
    "    original_referencia = original[original['referencia'] == row['referencia']][variaveis]\n",
    "    similar = vizinhos.kneighbors(original_referencia, return_distance=False)[0]\n",
    "    original_similar = original.iloc[similar][variaveis].reset_index()\n",
    "    referencia = original.iloc[similar]['referencia'].reset_index()\n",
    "    referencia = referencia.merge(original_similar, on='index', how='left')\n",
    "    referencia = referencia.drop(columns=['index'])\n",
    "    for ind, rw in referencia.iterrows():    \n",
    "        if row['referencia'] != rw['referencia']:            \n",
    "            print('--> {0}'.format(rw['referencia']))\n",
    "            similares = similares.append({'referencia': row['referencia'], 'vizinho': rw['referencia']}, ignore_index = True)\n",
    "similares\n",
    "\n",
    "similares.to_feather('database/knn_estado.feather')"
   ]
  }
 ],
 "metadata": {
  "kernelspec": {
   "display_name": "Python 3",
   "language": "python",
   "name": "python3"
  },
  "language_info": {
   "codemirror_mode": {
    "name": "ipython",
    "version": 3
   },
   "file_extension": ".py",
   "mimetype": "text/x-python",
   "name": "python",
   "nbconvert_exporter": "python",
   "pygments_lexer": "ipython3",
   "version": "3.8.13"
  },
  "orig_nbformat": 4,
  "vscode": {
   "interpreter": {
    "hash": "110cc1dee26208153f2972f08a2ad52b6a56238dc66d48e87fb757ef2996db56"
   }
  }
 },
 "nbformat": 4,
 "nbformat_minor": 2
}
